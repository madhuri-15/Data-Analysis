{
 "cells": [
  {
   "cell_type": "code",
   "execution_count": 1,
   "id": "31b03e92",
   "metadata": {
    "_cell_guid": "b1076dfc-b9ad-4769-8c92-a6c4dae69d19",
    "_uuid": "8f2839f25d086af736a60e9eeb907d3b93b6e0e5",
    "execution": {
     "iopub.execute_input": "2022-02-22T06:50:12.544343Z",
     "iopub.status.busy": "2022-02-22T06:50:12.542486Z",
     "iopub.status.idle": "2022-02-22T06:50:13.716125Z",
     "shell.execute_reply": "2022-02-22T06:50:13.714839Z"
    },
    "papermill": {
     "duration": 1.20619,
     "end_time": "2022-02-22T06:50:13.716346",
     "exception": false,
     "start_time": "2022-02-22T06:50:12.510156",
     "status": "completed"
    },
    "tags": []
   },
   "outputs": [],
   "source": [
    "# Loading library.\n",
    "import numpy as np\n",
    "import pandas as pd\n",
    "\n",
    "# for visualization.\n",
    "import matplotlib.pyplot as plt\n",
    "import seaborn as sns\n",
    "%matplotlib inline\n",
    "\n",
    "plt.style.use('tableau-colorblind10')"
   ]
  },
  {
   "cell_type": "code",
   "execution_count": 2,
   "id": "06ddad2e",
   "metadata": {
    "execution": {
     "iopub.execute_input": "2022-02-22T06:50:13.770970Z",
     "iopub.status.busy": "2022-02-22T06:50:13.769996Z",
     "iopub.status.idle": "2022-02-22T06:50:13.830885Z",
     "shell.execute_reply": "2022-02-22T06:50:13.830315Z"
    },
    "papermill": {
     "duration": 0.08867,
     "end_time": "2022-02-22T06:50:13.831065",
     "exception": false,
     "start_time": "2022-02-22T06:50:13.742395",
     "status": "completed"
    },
    "tags": []
   },
   "outputs": [
    {
     "data": {
      "text/html": [
       "<div>\n",
       "<style scoped>\n",
       "    .dataframe tbody tr th:only-of-type {\n",
       "        vertical-align: middle;\n",
       "    }\n",
       "\n",
       "    .dataframe tbody tr th {\n",
       "        vertical-align: top;\n",
       "    }\n",
       "\n",
       "    .dataframe thead th {\n",
       "        text-align: right;\n",
       "    }\n",
       "</style>\n",
       "<table border=\"1\" class=\"dataframe\">\n",
       "  <thead>\n",
       "    <tr style=\"text-align: right;\">\n",
       "      <th></th>\n",
       "      <th>Patient_ID</th>\n",
       "      <th>Age</th>\n",
       "      <th>Gender</th>\n",
       "      <th>Protein1</th>\n",
       "      <th>Protein2</th>\n",
       "      <th>Protein3</th>\n",
       "      <th>Protein4</th>\n",
       "      <th>Tumour_Stage</th>\n",
       "      <th>Histology</th>\n",
       "      <th>ER status</th>\n",
       "      <th>PR status</th>\n",
       "      <th>HER2 status</th>\n",
       "      <th>Surgery_type</th>\n",
       "      <th>Date_of_Surgery</th>\n",
       "      <th>Date_of_Last_Visit</th>\n",
       "      <th>Patient_Status</th>\n",
       "    </tr>\n",
       "  </thead>\n",
       "  <tbody>\n",
       "    <tr>\n",
       "      <th>0</th>\n",
       "      <td>TCGA-D8-A1XD</td>\n",
       "      <td>36.0</td>\n",
       "      <td>FEMALE</td>\n",
       "      <td>0.080353</td>\n",
       "      <td>0.42638</td>\n",
       "      <td>0.54715</td>\n",
       "      <td>0.273680</td>\n",
       "      <td>III</td>\n",
       "      <td>Infiltrating Ductal Carcinoma</td>\n",
       "      <td>Positive</td>\n",
       "      <td>Positive</td>\n",
       "      <td>Negative</td>\n",
       "      <td>Modified Radical Mastectomy</td>\n",
       "      <td>15-Jan-17</td>\n",
       "      <td>19-Jun-17</td>\n",
       "      <td>Alive</td>\n",
       "    </tr>\n",
       "    <tr>\n",
       "      <th>1</th>\n",
       "      <td>TCGA-EW-A1OX</td>\n",
       "      <td>43.0</td>\n",
       "      <td>FEMALE</td>\n",
       "      <td>-0.420320</td>\n",
       "      <td>0.57807</td>\n",
       "      <td>0.61447</td>\n",
       "      <td>-0.031505</td>\n",
       "      <td>II</td>\n",
       "      <td>Mucinous Carcinoma</td>\n",
       "      <td>Positive</td>\n",
       "      <td>Positive</td>\n",
       "      <td>Negative</td>\n",
       "      <td>Lumpectomy</td>\n",
       "      <td>26-Apr-17</td>\n",
       "      <td>09-Nov-18</td>\n",
       "      <td>Dead</td>\n",
       "    </tr>\n",
       "    <tr>\n",
       "      <th>2</th>\n",
       "      <td>TCGA-A8-A079</td>\n",
       "      <td>69.0</td>\n",
       "      <td>FEMALE</td>\n",
       "      <td>0.213980</td>\n",
       "      <td>1.31140</td>\n",
       "      <td>-0.32747</td>\n",
       "      <td>-0.234260</td>\n",
       "      <td>III</td>\n",
       "      <td>Infiltrating Ductal Carcinoma</td>\n",
       "      <td>Positive</td>\n",
       "      <td>Positive</td>\n",
       "      <td>Negative</td>\n",
       "      <td>Other</td>\n",
       "      <td>08-Sep-17</td>\n",
       "      <td>09-Jun-18</td>\n",
       "      <td>Alive</td>\n",
       "    </tr>\n",
       "    <tr>\n",
       "      <th>3</th>\n",
       "      <td>TCGA-D8-A1XR</td>\n",
       "      <td>56.0</td>\n",
       "      <td>FEMALE</td>\n",
       "      <td>0.345090</td>\n",
       "      <td>-0.21147</td>\n",
       "      <td>-0.19304</td>\n",
       "      <td>0.124270</td>\n",
       "      <td>II</td>\n",
       "      <td>Infiltrating Ductal Carcinoma</td>\n",
       "      <td>Positive</td>\n",
       "      <td>Positive</td>\n",
       "      <td>Negative</td>\n",
       "      <td>Modified Radical Mastectomy</td>\n",
       "      <td>25-Jan-17</td>\n",
       "      <td>12-Jul-17</td>\n",
       "      <td>Alive</td>\n",
       "    </tr>\n",
       "    <tr>\n",
       "      <th>4</th>\n",
       "      <td>TCGA-BH-A0BF</td>\n",
       "      <td>56.0</td>\n",
       "      <td>FEMALE</td>\n",
       "      <td>0.221550</td>\n",
       "      <td>1.90680</td>\n",
       "      <td>0.52045</td>\n",
       "      <td>-0.311990</td>\n",
       "      <td>II</td>\n",
       "      <td>Infiltrating Ductal Carcinoma</td>\n",
       "      <td>Positive</td>\n",
       "      <td>Positive</td>\n",
       "      <td>Negative</td>\n",
       "      <td>Other</td>\n",
       "      <td>06-May-17</td>\n",
       "      <td>27-Jun-19</td>\n",
       "      <td>Dead</td>\n",
       "    </tr>\n",
       "  </tbody>\n",
       "</table>\n",
       "</div>"
      ],
      "text/plain": [
       "     Patient_ID   Age  Gender  Protein1  Protein2  Protein3  Protein4  \\\n",
       "0  TCGA-D8-A1XD  36.0  FEMALE  0.080353   0.42638   0.54715  0.273680   \n",
       "1  TCGA-EW-A1OX  43.0  FEMALE -0.420320   0.57807   0.61447 -0.031505   \n",
       "2  TCGA-A8-A079  69.0  FEMALE  0.213980   1.31140  -0.32747 -0.234260   \n",
       "3  TCGA-D8-A1XR  56.0  FEMALE  0.345090  -0.21147  -0.19304  0.124270   \n",
       "4  TCGA-BH-A0BF  56.0  FEMALE  0.221550   1.90680   0.52045 -0.311990   \n",
       "\n",
       "  Tumour_Stage                      Histology ER status PR status HER2 status  \\\n",
       "0          III  Infiltrating Ductal Carcinoma  Positive  Positive    Negative   \n",
       "1           II             Mucinous Carcinoma  Positive  Positive    Negative   \n",
       "2          III  Infiltrating Ductal Carcinoma  Positive  Positive    Negative   \n",
       "3           II  Infiltrating Ductal Carcinoma  Positive  Positive    Negative   \n",
       "4           II  Infiltrating Ductal Carcinoma  Positive  Positive    Negative   \n",
       "\n",
       "                  Surgery_type Date_of_Surgery Date_of_Last_Visit  \\\n",
       "0  Modified Radical Mastectomy       15-Jan-17          19-Jun-17   \n",
       "1                   Lumpectomy       26-Apr-17          09-Nov-18   \n",
       "2                        Other       08-Sep-17          09-Jun-18   \n",
       "3  Modified Radical Mastectomy       25-Jan-17          12-Jul-17   \n",
       "4                        Other       06-May-17          27-Jun-19   \n",
       "\n",
       "  Patient_Status  \n",
       "0          Alive  \n",
       "1           Dead  \n",
       "2          Alive  \n",
       "3          Alive  \n",
       "4           Dead  "
      ]
     },
     "execution_count": 2,
     "metadata": {},
     "output_type": "execute_result"
    }
   ],
   "source": [
    "data = pd.read_csv(\"../input/breastcancerdataset/BRCA.csv\")\n",
    "data.head()"
   ]
  },
  {
   "cell_type": "code",
   "execution_count": 3,
   "id": "417adf79",
   "metadata": {
    "execution": {
     "iopub.execute_input": "2022-02-22T06:50:13.890423Z",
     "iopub.status.busy": "2022-02-22T06:50:13.889472Z",
     "iopub.status.idle": "2022-02-22T06:50:13.893082Z",
     "shell.execute_reply": "2022-02-22T06:50:13.893574Z"
    },
    "papermill": {
     "duration": 0.035988,
     "end_time": "2022-02-22T06:50:13.893766",
     "exception": false,
     "start_time": "2022-02-22T06:50:13.857778",
     "status": "completed"
    },
    "tags": []
   },
   "outputs": [
    {
     "data": {
      "text/plain": [
       "(341, 16)"
      ]
     },
     "execution_count": 3,
     "metadata": {},
     "output_type": "execute_result"
    }
   ],
   "source": [
    "data.shape"
   ]
  },
  {
   "cell_type": "code",
   "execution_count": 4,
   "id": "543f6df2",
   "metadata": {
    "execution": {
     "iopub.execute_input": "2022-02-22T06:50:13.949389Z",
     "iopub.status.busy": "2022-02-22T06:50:13.948331Z",
     "iopub.status.idle": "2022-02-22T06:50:13.973080Z",
     "shell.execute_reply": "2022-02-22T06:50:13.973648Z"
    },
    "papermill": {
     "duration": 0.054399,
     "end_time": "2022-02-22T06:50:13.973850",
     "exception": false,
     "start_time": "2022-02-22T06:50:13.919451",
     "status": "completed"
    },
    "tags": []
   },
   "outputs": [
    {
     "name": "stdout",
     "output_type": "stream",
     "text": [
      "<class 'pandas.core.frame.DataFrame'>\n",
      "RangeIndex: 341 entries, 0 to 340\n",
      "Data columns (total 16 columns):\n",
      " #   Column              Non-Null Count  Dtype  \n",
      "---  ------              --------------  -----  \n",
      " 0   Patient_ID          334 non-null    object \n",
      " 1   Age                 334 non-null    float64\n",
      " 2   Gender              334 non-null    object \n",
      " 3   Protein1            334 non-null    float64\n",
      " 4   Protein2            334 non-null    float64\n",
      " 5   Protein3            334 non-null    float64\n",
      " 6   Protein4            334 non-null    float64\n",
      " 7   Tumour_Stage        334 non-null    object \n",
      " 8   Histology           334 non-null    object \n",
      " 9   ER status           334 non-null    object \n",
      " 10  PR status           334 non-null    object \n",
      " 11  HER2 status         334 non-null    object \n",
      " 12  Surgery_type        334 non-null    object \n",
      " 13  Date_of_Surgery     334 non-null    object \n",
      " 14  Date_of_Last_Visit  317 non-null    object \n",
      " 15  Patient_Status      321 non-null    object \n",
      "dtypes: float64(5), object(11)\n",
      "memory usage: 42.8+ KB\n"
     ]
    }
   ],
   "source": [
    "data.info()"
   ]
  },
  {
   "cell_type": "code",
   "execution_count": 5,
   "id": "f1481405",
   "metadata": {
    "execution": {
     "iopub.execute_input": "2022-02-22T06:50:14.046018Z",
     "iopub.status.busy": "2022-02-22T06:50:14.041739Z",
     "iopub.status.idle": "2022-02-22T06:50:14.056667Z",
     "shell.execute_reply": "2022-02-22T06:50:14.057631Z"
    },
    "papermill": {
     "duration": 0.058001,
     "end_time": "2022-02-22T06:50:14.057904",
     "exception": false,
     "start_time": "2022-02-22T06:50:13.999903",
     "status": "completed"
    },
    "tags": []
   },
   "outputs": [
    {
     "name": "stdout",
     "output_type": "stream",
     "text": [
      "------------------------------\n",
      "TCGA-D8-A1JJ    1\n",
      "TCGA-E2-A1IG    1\n",
      "TCGA-A8-A06P    1\n",
      "TCGA-BH-A0HI    1\n",
      "TCGA-BH-A0BV    1\n",
      "               ..\n",
      "TCGA-D8-A1JH    1\n",
      "TCGA-A8-A06O    1\n",
      "TCGA-AR-A1AK    1\n",
      "TCGA-BH-A0DS    1\n",
      "TCGA-AC-A5XS    1\n",
      "Name: Patient_ID, Length: 334, dtype: int64\n",
      "------------------------------\n",
      "FEMALE    330\n",
      "MALE        4\n",
      "Name: Gender, dtype: int64\n",
      "------------------------------\n",
      "II     189\n",
      "III     81\n",
      "I       64\n",
      "Name: Tumour_Stage, dtype: int64\n",
      "------------------------------\n",
      "Infiltrating Ductal Carcinoma     233\n",
      "Infiltrating Lobular Carcinoma     89\n",
      "Mucinous Carcinoma                 12\n",
      "Name: Histology, dtype: int64\n",
      "------------------------------\n",
      "Positive    334\n",
      "Name: ER status, dtype: int64\n",
      "------------------------------\n",
      "Positive    334\n",
      "Name: PR status, dtype: int64\n",
      "------------------------------\n",
      "Negative    305\n",
      "Positive     29\n",
      "Name: HER2 status, dtype: int64\n",
      "------------------------------\n",
      "Other                          105\n",
      "Modified Radical Mastectomy     96\n",
      "Simple Mastectomy               67\n",
      "Lumpectomy                      66\n",
      "Name: Surgery_type, dtype: int64\n",
      "------------------------------\n",
      "26-Nov-18    5\n",
      "06-Nov-18    5\n",
      "16-Nov-18    5\n",
      "06-Dec-18    5\n",
      "27-Oct-18    4\n",
      "            ..\n",
      "25-Jun-17    1\n",
      "21-Nov-17    1\n",
      "20-Jan-18    1\n",
      "26-May-17    1\n",
      "02-Oct-17    1\n",
      "Name: Date_of_Surgery, Length: 181, dtype: int64\n",
      "------------------------------\n",
      "20-Feb-20    3\n",
      "03-Feb-21    3\n",
      "09-Aug-19    3\n",
      "15-Jan-20    3\n",
      "09-Feb-20    3\n",
      "            ..\n",
      "18-Feb-19    1\n",
      "26-Nov-19    1\n",
      "25-Dec-20    1\n",
      "19-Mar-21    1\n",
      "11-Dec-18    1\n",
      "Name: Date_of_Last_Visit, Length: 285, dtype: int64\n",
      "------------------------------\n",
      "Alive    255\n",
      "Dead      66\n",
      "Name: Patient_Status, dtype: int64\n"
     ]
    }
   ],
   "source": [
    "# Valuecounts.\n",
    "\n",
    "for col in data.select_dtypes(object):\n",
    "    \n",
    "    print(\"---\"*10)\n",
    "    print(data[col].value_counts())"
   ]
  },
  {
   "cell_type": "code",
   "execution_count": 6,
   "id": "864a977e",
   "metadata": {
    "execution": {
     "iopub.execute_input": "2022-02-22T06:50:14.122300Z",
     "iopub.status.busy": "2022-02-22T06:50:14.121377Z",
     "iopub.status.idle": "2022-02-22T06:50:14.125487Z",
     "shell.execute_reply": "2022-02-22T06:50:14.124876Z"
    },
    "papermill": {
     "duration": 0.040268,
     "end_time": "2022-02-22T06:50:14.125660",
     "exception": false,
     "start_time": "2022-02-22T06:50:14.085392",
     "status": "completed"
    },
    "tags": []
   },
   "outputs": [
    {
     "data": {
      "text/plain": [
       "Patient_ID             7\n",
       "Age                    7\n",
       "Gender                 7\n",
       "Protein1               7\n",
       "Protein2               7\n",
       "Protein3               7\n",
       "Protein4               7\n",
       "Tumour_Stage           7\n",
       "Histology              7\n",
       "ER status              7\n",
       "PR status              7\n",
       "HER2 status            7\n",
       "Surgery_type           7\n",
       "Date_of_Surgery        7\n",
       "Date_of_Last_Visit    24\n",
       "Patient_Status        20\n",
       "dtype: int64"
      ]
     },
     "execution_count": 6,
     "metadata": {},
     "output_type": "execute_result"
    }
   ],
   "source": [
    "# missing data.\n",
    "data.isnull().sum()"
   ]
  },
  {
   "cell_type": "code",
   "execution_count": 7,
   "id": "0bb022e3",
   "metadata": {
    "execution": {
     "iopub.execute_input": "2022-02-22T06:50:14.183270Z",
     "iopub.status.busy": "2022-02-22T06:50:14.182613Z",
     "iopub.status.idle": "2022-02-22T06:50:14.207565Z",
     "shell.execute_reply": "2022-02-22T06:50:14.208107Z"
    },
    "papermill": {
     "duration": 0.055457,
     "end_time": "2022-02-22T06:50:14.208319",
     "exception": false,
     "start_time": "2022-02-22T06:50:14.152862",
     "status": "completed"
    },
    "tags": []
   },
   "outputs": [
    {
     "data": {
      "text/html": [
       "<div>\n",
       "<style scoped>\n",
       "    .dataframe tbody tr th:only-of-type {\n",
       "        vertical-align: middle;\n",
       "    }\n",
       "\n",
       "    .dataframe tbody tr th {\n",
       "        vertical-align: top;\n",
       "    }\n",
       "\n",
       "    .dataframe thead th {\n",
       "        text-align: right;\n",
       "    }\n",
       "</style>\n",
       "<table border=\"1\" class=\"dataframe\">\n",
       "  <thead>\n",
       "    <tr style=\"text-align: right;\">\n",
       "      <th></th>\n",
       "      <th>Patient_ID</th>\n",
       "      <th>Age</th>\n",
       "      <th>Gender</th>\n",
       "      <th>Protein1</th>\n",
       "      <th>Protein2</th>\n",
       "      <th>Protein3</th>\n",
       "      <th>Protein4</th>\n",
       "      <th>Tumour_Stage</th>\n",
       "      <th>Histology</th>\n",
       "      <th>ER status</th>\n",
       "      <th>PR status</th>\n",
       "      <th>HER2 status</th>\n",
       "      <th>Surgery_type</th>\n",
       "      <th>Date_of_Surgery</th>\n",
       "      <th>Date_of_Last_Visit</th>\n",
       "      <th>Patient_Status</th>\n",
       "    </tr>\n",
       "  </thead>\n",
       "  <tbody>\n",
       "    <tr>\n",
       "      <th>334</th>\n",
       "      <td>NaN</td>\n",
       "      <td>NaN</td>\n",
       "      <td>NaN</td>\n",
       "      <td>NaN</td>\n",
       "      <td>NaN</td>\n",
       "      <td>NaN</td>\n",
       "      <td>NaN</td>\n",
       "      <td>NaN</td>\n",
       "      <td>NaN</td>\n",
       "      <td>NaN</td>\n",
       "      <td>NaN</td>\n",
       "      <td>NaN</td>\n",
       "      <td>NaN</td>\n",
       "      <td>NaN</td>\n",
       "      <td>NaN</td>\n",
       "      <td>NaN</td>\n",
       "    </tr>\n",
       "    <tr>\n",
       "      <th>335</th>\n",
       "      <td>NaN</td>\n",
       "      <td>NaN</td>\n",
       "      <td>NaN</td>\n",
       "      <td>NaN</td>\n",
       "      <td>NaN</td>\n",
       "      <td>NaN</td>\n",
       "      <td>NaN</td>\n",
       "      <td>NaN</td>\n",
       "      <td>NaN</td>\n",
       "      <td>NaN</td>\n",
       "      <td>NaN</td>\n",
       "      <td>NaN</td>\n",
       "      <td>NaN</td>\n",
       "      <td>NaN</td>\n",
       "      <td>NaN</td>\n",
       "      <td>NaN</td>\n",
       "    </tr>\n",
       "    <tr>\n",
       "      <th>336</th>\n",
       "      <td>NaN</td>\n",
       "      <td>NaN</td>\n",
       "      <td>NaN</td>\n",
       "      <td>NaN</td>\n",
       "      <td>NaN</td>\n",
       "      <td>NaN</td>\n",
       "      <td>NaN</td>\n",
       "      <td>NaN</td>\n",
       "      <td>NaN</td>\n",
       "      <td>NaN</td>\n",
       "      <td>NaN</td>\n",
       "      <td>NaN</td>\n",
       "      <td>NaN</td>\n",
       "      <td>NaN</td>\n",
       "      <td>NaN</td>\n",
       "      <td>NaN</td>\n",
       "    </tr>\n",
       "    <tr>\n",
       "      <th>337</th>\n",
       "      <td>NaN</td>\n",
       "      <td>NaN</td>\n",
       "      <td>NaN</td>\n",
       "      <td>NaN</td>\n",
       "      <td>NaN</td>\n",
       "      <td>NaN</td>\n",
       "      <td>NaN</td>\n",
       "      <td>NaN</td>\n",
       "      <td>NaN</td>\n",
       "      <td>NaN</td>\n",
       "      <td>NaN</td>\n",
       "      <td>NaN</td>\n",
       "      <td>NaN</td>\n",
       "      <td>NaN</td>\n",
       "      <td>NaN</td>\n",
       "      <td>NaN</td>\n",
       "    </tr>\n",
       "    <tr>\n",
       "      <th>338</th>\n",
       "      <td>NaN</td>\n",
       "      <td>NaN</td>\n",
       "      <td>NaN</td>\n",
       "      <td>NaN</td>\n",
       "      <td>NaN</td>\n",
       "      <td>NaN</td>\n",
       "      <td>NaN</td>\n",
       "      <td>NaN</td>\n",
       "      <td>NaN</td>\n",
       "      <td>NaN</td>\n",
       "      <td>NaN</td>\n",
       "      <td>NaN</td>\n",
       "      <td>NaN</td>\n",
       "      <td>NaN</td>\n",
       "      <td>NaN</td>\n",
       "      <td>NaN</td>\n",
       "    </tr>\n",
       "    <tr>\n",
       "      <th>339</th>\n",
       "      <td>NaN</td>\n",
       "      <td>NaN</td>\n",
       "      <td>NaN</td>\n",
       "      <td>NaN</td>\n",
       "      <td>NaN</td>\n",
       "      <td>NaN</td>\n",
       "      <td>NaN</td>\n",
       "      <td>NaN</td>\n",
       "      <td>NaN</td>\n",
       "      <td>NaN</td>\n",
       "      <td>NaN</td>\n",
       "      <td>NaN</td>\n",
       "      <td>NaN</td>\n",
       "      <td>NaN</td>\n",
       "      <td>NaN</td>\n",
       "      <td>NaN</td>\n",
       "    </tr>\n",
       "    <tr>\n",
       "      <th>340</th>\n",
       "      <td>NaN</td>\n",
       "      <td>NaN</td>\n",
       "      <td>NaN</td>\n",
       "      <td>NaN</td>\n",
       "      <td>NaN</td>\n",
       "      <td>NaN</td>\n",
       "      <td>NaN</td>\n",
       "      <td>NaN</td>\n",
       "      <td>NaN</td>\n",
       "      <td>NaN</td>\n",
       "      <td>NaN</td>\n",
       "      <td>NaN</td>\n",
       "      <td>NaN</td>\n",
       "      <td>NaN</td>\n",
       "      <td>NaN</td>\n",
       "      <td>NaN</td>\n",
       "    </tr>\n",
       "  </tbody>\n",
       "</table>\n",
       "</div>"
      ],
      "text/plain": [
       "    Patient_ID  Age Gender  Protein1  Protein2  Protein3  Protein4  \\\n",
       "334        NaN  NaN    NaN       NaN       NaN       NaN       NaN   \n",
       "335        NaN  NaN    NaN       NaN       NaN       NaN       NaN   \n",
       "336        NaN  NaN    NaN       NaN       NaN       NaN       NaN   \n",
       "337        NaN  NaN    NaN       NaN       NaN       NaN       NaN   \n",
       "338        NaN  NaN    NaN       NaN       NaN       NaN       NaN   \n",
       "339        NaN  NaN    NaN       NaN       NaN       NaN       NaN   \n",
       "340        NaN  NaN    NaN       NaN       NaN       NaN       NaN   \n",
       "\n",
       "    Tumour_Stage Histology ER status PR status HER2 status Surgery_type  \\\n",
       "334          NaN       NaN       NaN       NaN         NaN          NaN   \n",
       "335          NaN       NaN       NaN       NaN         NaN          NaN   \n",
       "336          NaN       NaN       NaN       NaN         NaN          NaN   \n",
       "337          NaN       NaN       NaN       NaN         NaN          NaN   \n",
       "338          NaN       NaN       NaN       NaN         NaN          NaN   \n",
       "339          NaN       NaN       NaN       NaN         NaN          NaN   \n",
       "340          NaN       NaN       NaN       NaN         NaN          NaN   \n",
       "\n",
       "    Date_of_Surgery Date_of_Last_Visit Patient_Status  \n",
       "334             NaN                NaN            NaN  \n",
       "335             NaN                NaN            NaN  \n",
       "336             NaN                NaN            NaN  \n",
       "337             NaN                NaN            NaN  \n",
       "338             NaN                NaN            NaN  \n",
       "339             NaN                NaN            NaN  \n",
       "340             NaN                NaN            NaN  "
      ]
     },
     "execution_count": 7,
     "metadata": {},
     "output_type": "execute_result"
    }
   ],
   "source": [
    "data.loc[data.Patient_ID.isnull()]"
   ]
  },
  {
   "cell_type": "code",
   "execution_count": 8,
   "id": "23afc467",
   "metadata": {
    "execution": {
     "iopub.execute_input": "2022-02-22T06:50:14.267991Z",
     "iopub.status.busy": "2022-02-22T06:50:14.267278Z",
     "iopub.status.idle": "2022-02-22T06:50:14.289940Z",
     "shell.execute_reply": "2022-02-22T06:50:14.290523Z"
    },
    "papermill": {
     "duration": 0.05459,
     "end_time": "2022-02-22T06:50:14.290724",
     "exception": false,
     "start_time": "2022-02-22T06:50:14.236134",
     "status": "completed"
    },
    "tags": []
   },
   "outputs": [],
   "source": [
    "# Drop columns with all NaN values.\n",
    "data.dropna(how='all', inplace=True)"
   ]
  },
  {
   "cell_type": "code",
   "execution_count": 9,
   "id": "4f10576f",
   "metadata": {
    "execution": {
     "iopub.execute_input": "2022-02-22T06:50:14.350182Z",
     "iopub.status.busy": "2022-02-22T06:50:14.349427Z",
     "iopub.status.idle": "2022-02-22T06:50:14.354885Z",
     "shell.execute_reply": "2022-02-22T06:50:14.355538Z"
    },
    "papermill": {
     "duration": 0.037097,
     "end_time": "2022-02-22T06:50:14.355741",
     "exception": false,
     "start_time": "2022-02-22T06:50:14.318644",
     "status": "completed"
    },
    "tags": []
   },
   "outputs": [
    {
     "data": {
      "text/plain": [
       "(334, 16)"
      ]
     },
     "execution_count": 9,
     "metadata": {},
     "output_type": "execute_result"
    }
   ],
   "source": [
    "# Check shape after removing null values.\n",
    "data.shape"
   ]
  },
  {
   "cell_type": "code",
   "execution_count": 10,
   "id": "746afd7d",
   "metadata": {
    "execution": {
     "iopub.execute_input": "2022-02-22T06:50:14.417531Z",
     "iopub.status.busy": "2022-02-22T06:50:14.416852Z",
     "iopub.status.idle": "2022-02-22T06:50:14.430661Z",
     "shell.execute_reply": "2022-02-22T06:50:14.431242Z"
    },
    "papermill": {
     "duration": 0.047247,
     "end_time": "2022-02-22T06:50:14.431446",
     "exception": false,
     "start_time": "2022-02-22T06:50:14.384199",
     "status": "completed"
    },
    "tags": []
   },
   "outputs": [],
   "source": [
    "# Change datatype of dates in datetime.\n",
    "data['Date_of_Surgery'] = pd.to_datetime(data.Date_of_Surgery, format=\"%d-%b-%y\") # format for 15-Jan-17\n",
    "data['Date_of_Last_Visit'] = pd.to_datetime(data.Date_of_Last_Visit, format=\"%d-%b-%y\")"
   ]
  },
  {
   "cell_type": "code",
   "execution_count": 11,
   "id": "282611bc",
   "metadata": {
    "execution": {
     "iopub.execute_input": "2022-02-22T06:50:14.492203Z",
     "iopub.status.busy": "2022-02-22T06:50:14.491468Z",
     "iopub.status.idle": "2022-02-22T06:50:14.515521Z",
     "shell.execute_reply": "2022-02-22T06:50:14.516195Z"
    },
    "papermill": {
     "duration": 0.056384,
     "end_time": "2022-02-22T06:50:14.516401",
     "exception": false,
     "start_time": "2022-02-22T06:50:14.460017",
     "status": "completed"
    },
    "tags": []
   },
   "outputs": [
    {
     "data": {
      "text/html": [
       "<div>\n",
       "<style scoped>\n",
       "    .dataframe tbody tr th:only-of-type {\n",
       "        vertical-align: middle;\n",
       "    }\n",
       "\n",
       "    .dataframe tbody tr th {\n",
       "        vertical-align: top;\n",
       "    }\n",
       "\n",
       "    .dataframe thead th {\n",
       "        text-align: right;\n",
       "    }\n",
       "</style>\n",
       "<table border=\"1\" class=\"dataframe\">\n",
       "  <thead>\n",
       "    <tr style=\"text-align: right;\">\n",
       "      <th></th>\n",
       "      <th>Patient_ID</th>\n",
       "      <th>Age</th>\n",
       "      <th>Gender</th>\n",
       "      <th>Protein1</th>\n",
       "      <th>Protein2</th>\n",
       "      <th>Protein3</th>\n",
       "      <th>Protein4</th>\n",
       "      <th>Tumour_Stage</th>\n",
       "      <th>Histology</th>\n",
       "      <th>ER status</th>\n",
       "      <th>PR status</th>\n",
       "      <th>HER2 status</th>\n",
       "      <th>Surgery_type</th>\n",
       "      <th>Date_of_Surgery</th>\n",
       "      <th>Date_of_Last_Visit</th>\n",
       "      <th>Patient_Status</th>\n",
       "    </tr>\n",
       "  </thead>\n",
       "  <tbody>\n",
       "    <tr>\n",
       "      <th>0</th>\n",
       "      <td>TCGA-D8-A1XD</td>\n",
       "      <td>36.0</td>\n",
       "      <td>FEMALE</td>\n",
       "      <td>0.080353</td>\n",
       "      <td>0.42638</td>\n",
       "      <td>0.54715</td>\n",
       "      <td>0.273680</td>\n",
       "      <td>III</td>\n",
       "      <td>Infiltrating Ductal Carcinoma</td>\n",
       "      <td>Positive</td>\n",
       "      <td>Positive</td>\n",
       "      <td>Negative</td>\n",
       "      <td>Modified Radical Mastectomy</td>\n",
       "      <td>2017-01-15</td>\n",
       "      <td>2017-06-19</td>\n",
       "      <td>Alive</td>\n",
       "    </tr>\n",
       "    <tr>\n",
       "      <th>1</th>\n",
       "      <td>TCGA-EW-A1OX</td>\n",
       "      <td>43.0</td>\n",
       "      <td>FEMALE</td>\n",
       "      <td>-0.420320</td>\n",
       "      <td>0.57807</td>\n",
       "      <td>0.61447</td>\n",
       "      <td>-0.031505</td>\n",
       "      <td>II</td>\n",
       "      <td>Mucinous Carcinoma</td>\n",
       "      <td>Positive</td>\n",
       "      <td>Positive</td>\n",
       "      <td>Negative</td>\n",
       "      <td>Lumpectomy</td>\n",
       "      <td>2017-04-26</td>\n",
       "      <td>2018-11-09</td>\n",
       "      <td>Dead</td>\n",
       "    </tr>\n",
       "    <tr>\n",
       "      <th>2</th>\n",
       "      <td>TCGA-A8-A079</td>\n",
       "      <td>69.0</td>\n",
       "      <td>FEMALE</td>\n",
       "      <td>0.213980</td>\n",
       "      <td>1.31140</td>\n",
       "      <td>-0.32747</td>\n",
       "      <td>-0.234260</td>\n",
       "      <td>III</td>\n",
       "      <td>Infiltrating Ductal Carcinoma</td>\n",
       "      <td>Positive</td>\n",
       "      <td>Positive</td>\n",
       "      <td>Negative</td>\n",
       "      <td>Other</td>\n",
       "      <td>2017-09-08</td>\n",
       "      <td>2018-06-09</td>\n",
       "      <td>Alive</td>\n",
       "    </tr>\n",
       "    <tr>\n",
       "      <th>3</th>\n",
       "      <td>TCGA-D8-A1XR</td>\n",
       "      <td>56.0</td>\n",
       "      <td>FEMALE</td>\n",
       "      <td>0.345090</td>\n",
       "      <td>-0.21147</td>\n",
       "      <td>-0.19304</td>\n",
       "      <td>0.124270</td>\n",
       "      <td>II</td>\n",
       "      <td>Infiltrating Ductal Carcinoma</td>\n",
       "      <td>Positive</td>\n",
       "      <td>Positive</td>\n",
       "      <td>Negative</td>\n",
       "      <td>Modified Radical Mastectomy</td>\n",
       "      <td>2017-01-25</td>\n",
       "      <td>2017-07-12</td>\n",
       "      <td>Alive</td>\n",
       "    </tr>\n",
       "    <tr>\n",
       "      <th>4</th>\n",
       "      <td>TCGA-BH-A0BF</td>\n",
       "      <td>56.0</td>\n",
       "      <td>FEMALE</td>\n",
       "      <td>0.221550</td>\n",
       "      <td>1.90680</td>\n",
       "      <td>0.52045</td>\n",
       "      <td>-0.311990</td>\n",
       "      <td>II</td>\n",
       "      <td>Infiltrating Ductal Carcinoma</td>\n",
       "      <td>Positive</td>\n",
       "      <td>Positive</td>\n",
       "      <td>Negative</td>\n",
       "      <td>Other</td>\n",
       "      <td>2017-05-06</td>\n",
       "      <td>2019-06-27</td>\n",
       "      <td>Dead</td>\n",
       "    </tr>\n",
       "  </tbody>\n",
       "</table>\n",
       "</div>"
      ],
      "text/plain": [
       "     Patient_ID   Age  Gender  Protein1  Protein2  Protein3  Protein4  \\\n",
       "0  TCGA-D8-A1XD  36.0  FEMALE  0.080353   0.42638   0.54715  0.273680   \n",
       "1  TCGA-EW-A1OX  43.0  FEMALE -0.420320   0.57807   0.61447 -0.031505   \n",
       "2  TCGA-A8-A079  69.0  FEMALE  0.213980   1.31140  -0.32747 -0.234260   \n",
       "3  TCGA-D8-A1XR  56.0  FEMALE  0.345090  -0.21147  -0.19304  0.124270   \n",
       "4  TCGA-BH-A0BF  56.0  FEMALE  0.221550   1.90680   0.52045 -0.311990   \n",
       "\n",
       "  Tumour_Stage                      Histology ER status PR status HER2 status  \\\n",
       "0          III  Infiltrating Ductal Carcinoma  Positive  Positive    Negative   \n",
       "1           II             Mucinous Carcinoma  Positive  Positive    Negative   \n",
       "2          III  Infiltrating Ductal Carcinoma  Positive  Positive    Negative   \n",
       "3           II  Infiltrating Ductal Carcinoma  Positive  Positive    Negative   \n",
       "4           II  Infiltrating Ductal Carcinoma  Positive  Positive    Negative   \n",
       "\n",
       "                  Surgery_type Date_of_Surgery Date_of_Last_Visit  \\\n",
       "0  Modified Radical Mastectomy      2017-01-15         2017-06-19   \n",
       "1                   Lumpectomy      2017-04-26         2018-11-09   \n",
       "2                        Other      2017-09-08         2018-06-09   \n",
       "3  Modified Radical Mastectomy      2017-01-25         2017-07-12   \n",
       "4                        Other      2017-05-06         2019-06-27   \n",
       "\n",
       "  Patient_Status  \n",
       "0          Alive  \n",
       "1           Dead  \n",
       "2          Alive  \n",
       "3          Alive  \n",
       "4           Dead  "
      ]
     },
     "execution_count": 11,
     "metadata": {},
     "output_type": "execute_result"
    }
   ],
   "source": [
    "data.head()"
   ]
  },
  {
   "cell_type": "code",
   "execution_count": 12,
   "id": "c57b27de",
   "metadata": {
    "execution": {
     "iopub.execute_input": "2022-02-22T06:50:14.580354Z",
     "iopub.status.busy": "2022-02-22T06:50:14.579669Z",
     "iopub.status.idle": "2022-02-22T06:50:14.603169Z",
     "shell.execute_reply": "2022-02-22T06:50:14.603793Z"
    },
    "papermill": {
     "duration": 0.056506,
     "end_time": "2022-02-22T06:50:14.604016",
     "exception": false,
     "start_time": "2022-02-22T06:50:14.547510",
     "status": "completed"
    },
    "tags": []
   },
   "outputs": [
    {
     "data": {
      "text/html": [
       "<div>\n",
       "<style scoped>\n",
       "    .dataframe tbody tr th:only-of-type {\n",
       "        vertical-align: middle;\n",
       "    }\n",
       "\n",
       "    .dataframe tbody tr th {\n",
       "        vertical-align: top;\n",
       "    }\n",
       "\n",
       "    .dataframe thead th {\n",
       "        text-align: right;\n",
       "    }\n",
       "</style>\n",
       "<table border=\"1\" class=\"dataframe\">\n",
       "  <thead>\n",
       "    <tr style=\"text-align: right;\">\n",
       "      <th></th>\n",
       "      <th>Patient_ID</th>\n",
       "      <th>Age</th>\n",
       "      <th>Gender</th>\n",
       "      <th>Protein1</th>\n",
       "      <th>Protein2</th>\n",
       "      <th>Protein3</th>\n",
       "      <th>Protein4</th>\n",
       "      <th>Tumour_Stage</th>\n",
       "      <th>Histology</th>\n",
       "      <th>ER status</th>\n",
       "      <th>PR status</th>\n",
       "      <th>HER2 status</th>\n",
       "      <th>Surgery_type</th>\n",
       "      <th>Date_of_Surgery</th>\n",
       "      <th>Date_of_Last_Visit</th>\n",
       "      <th>Patient_Status</th>\n",
       "    </tr>\n",
       "  </thead>\n",
       "  <tbody>\n",
       "    <tr>\n",
       "      <th>329</th>\n",
       "      <td>TCGA-AN-A04A</td>\n",
       "      <td>36.0</td>\n",
       "      <td>FEMALE</td>\n",
       "      <td>0.23180</td>\n",
       "      <td>0.61804</td>\n",
       "      <td>-0.55779</td>\n",
       "      <td>-0.517350</td>\n",
       "      <td>III</td>\n",
       "      <td>Infiltrating Ductal Carcinoma</td>\n",
       "      <td>Positive</td>\n",
       "      <td>Positive</td>\n",
       "      <td>Positive</td>\n",
       "      <td>Simple Mastectomy</td>\n",
       "      <td>2019-11-11</td>\n",
       "      <td>2020-02-09</td>\n",
       "      <td>Dead</td>\n",
       "    </tr>\n",
       "    <tr>\n",
       "      <th>330</th>\n",
       "      <td>TCGA-A8-A085</td>\n",
       "      <td>44.0</td>\n",
       "      <td>MALE</td>\n",
       "      <td>0.73272</td>\n",
       "      <td>1.11170</td>\n",
       "      <td>-0.26952</td>\n",
       "      <td>-0.354920</td>\n",
       "      <td>II</td>\n",
       "      <td>Infiltrating Lobular Carcinoma</td>\n",
       "      <td>Positive</td>\n",
       "      <td>Positive</td>\n",
       "      <td>Negative</td>\n",
       "      <td>Other</td>\n",
       "      <td>2019-11-01</td>\n",
       "      <td>2020-03-04</td>\n",
       "      <td>Dead</td>\n",
       "    </tr>\n",
       "    <tr>\n",
       "      <th>331</th>\n",
       "      <td>TCGA-A1-A0SG</td>\n",
       "      <td>61.0</td>\n",
       "      <td>FEMALE</td>\n",
       "      <td>-0.71947</td>\n",
       "      <td>2.54850</td>\n",
       "      <td>-0.15024</td>\n",
       "      <td>0.339680</td>\n",
       "      <td>II</td>\n",
       "      <td>Infiltrating Ductal Carcinoma</td>\n",
       "      <td>Positive</td>\n",
       "      <td>Positive</td>\n",
       "      <td>Negative</td>\n",
       "      <td>Lumpectomy</td>\n",
       "      <td>2019-11-11</td>\n",
       "      <td>2021-01-18</td>\n",
       "      <td>Dead</td>\n",
       "    </tr>\n",
       "    <tr>\n",
       "      <th>332</th>\n",
       "      <td>TCGA-A2-A0EU</td>\n",
       "      <td>79.0</td>\n",
       "      <td>FEMALE</td>\n",
       "      <td>0.47940</td>\n",
       "      <td>2.05590</td>\n",
       "      <td>-0.53136</td>\n",
       "      <td>-0.188480</td>\n",
       "      <td>I</td>\n",
       "      <td>Infiltrating Ductal Carcinoma</td>\n",
       "      <td>Positive</td>\n",
       "      <td>Positive</td>\n",
       "      <td>Positive</td>\n",
       "      <td>Lumpectomy</td>\n",
       "      <td>2019-11-21</td>\n",
       "      <td>2021-02-19</td>\n",
       "      <td>Dead</td>\n",
       "    </tr>\n",
       "    <tr>\n",
       "      <th>333</th>\n",
       "      <td>TCGA-B6-A40B</td>\n",
       "      <td>76.0</td>\n",
       "      <td>FEMALE</td>\n",
       "      <td>-0.24427</td>\n",
       "      <td>0.92556</td>\n",
       "      <td>-0.41823</td>\n",
       "      <td>-0.067848</td>\n",
       "      <td>I</td>\n",
       "      <td>Infiltrating Ductal Carcinoma</td>\n",
       "      <td>Positive</td>\n",
       "      <td>Positive</td>\n",
       "      <td>Negative</td>\n",
       "      <td>Lumpectomy</td>\n",
       "      <td>2019-11-11</td>\n",
       "      <td>2021-01-05</td>\n",
       "      <td>Dead</td>\n",
       "    </tr>\n",
       "  </tbody>\n",
       "</table>\n",
       "</div>"
      ],
      "text/plain": [
       "       Patient_ID   Age  Gender  Protein1  Protein2  Protein3  Protein4  \\\n",
       "329  TCGA-AN-A04A  36.0  FEMALE   0.23180   0.61804  -0.55779 -0.517350   \n",
       "330  TCGA-A8-A085  44.0    MALE   0.73272   1.11170  -0.26952 -0.354920   \n",
       "331  TCGA-A1-A0SG  61.0  FEMALE  -0.71947   2.54850  -0.15024  0.339680   \n",
       "332  TCGA-A2-A0EU  79.0  FEMALE   0.47940   2.05590  -0.53136 -0.188480   \n",
       "333  TCGA-B6-A40B  76.0  FEMALE  -0.24427   0.92556  -0.41823 -0.067848   \n",
       "\n",
       "    Tumour_Stage                       Histology ER status PR status  \\\n",
       "329          III   Infiltrating Ductal Carcinoma  Positive  Positive   \n",
       "330           II  Infiltrating Lobular Carcinoma  Positive  Positive   \n",
       "331           II   Infiltrating Ductal Carcinoma  Positive  Positive   \n",
       "332            I   Infiltrating Ductal Carcinoma  Positive  Positive   \n",
       "333            I   Infiltrating Ductal Carcinoma  Positive  Positive   \n",
       "\n",
       "    HER2 status       Surgery_type Date_of_Surgery Date_of_Last_Visit  \\\n",
       "329    Positive  Simple Mastectomy      2019-11-11         2020-02-09   \n",
       "330    Negative              Other      2019-11-01         2020-03-04   \n",
       "331    Negative         Lumpectomy      2019-11-11         2021-01-18   \n",
       "332    Positive         Lumpectomy      2019-11-21         2021-02-19   \n",
       "333    Negative         Lumpectomy      2019-11-11         2021-01-05   \n",
       "\n",
       "    Patient_Status  \n",
       "329           Dead  \n",
       "330           Dead  \n",
       "331           Dead  \n",
       "332           Dead  \n",
       "333           Dead  "
      ]
     },
     "execution_count": 12,
     "metadata": {},
     "output_type": "execute_result"
    }
   ],
   "source": [
    "data.tail()"
   ]
  },
  {
   "cell_type": "code",
   "execution_count": 13,
   "id": "4284fe1f",
   "metadata": {
    "execution": {
     "iopub.execute_input": "2022-02-22T06:50:14.667863Z",
     "iopub.status.busy": "2022-02-22T06:50:14.667182Z",
     "iopub.status.idle": "2022-02-22T06:50:14.678773Z",
     "shell.execute_reply": "2022-02-22T06:50:14.679357Z"
    },
    "papermill": {
     "duration": 0.045578,
     "end_time": "2022-02-22T06:50:14.679563",
     "exception": false,
     "start_time": "2022-02-22T06:50:14.633985",
     "status": "completed"
    },
    "tags": []
   },
   "outputs": [],
   "source": [
    "# Examine the Age of Patients.\n",
    "data['Age'] = data.Age.astype(int)\n",
    "bins =[0, 20, 30, 40, 50, 60, 70, 80, 90, 100]\n",
    "labels = ['10s','20s', '30s', '40s', '50s', '60s', '70s', '80s', '90s']\n",
    "\n",
    "data['AgeGrp']=pd.cut(data.Age, labels=labels, bins=bins, right=False)"
   ]
  },
  {
   "cell_type": "code",
   "execution_count": 14,
   "id": "0e5b74e0",
   "metadata": {
    "execution": {
     "iopub.execute_input": "2022-02-22T06:50:14.752670Z",
     "iopub.status.busy": "2022-02-22T06:50:14.751935Z",
     "iopub.status.idle": "2022-02-22T06:50:15.053301Z",
     "shell.execute_reply": "2022-02-22T06:50:15.052520Z"
    },
    "papermill": {
     "duration": 0.343703,
     "end_time": "2022-02-22T06:50:15.053470",
     "exception": false,
     "start_time": "2022-02-22T06:50:14.709767",
     "status": "completed"
    },
    "tags": []
   },
   "outputs": [
    {
     "data": {
      "image/png": "[encoded data removed]",
      "text/plain": [
       "<Figure size 1008x576 with 1 Axes>"
      ]
     },
     "metadata": {
      "needs_background": "light"
     },
     "output_type": "display_data"
    }
   ],
   "source": [
    "plt.figure(figsize=(14, 8))\n",
    "sns.countplot(x='AgeGrp', hue='Gender', data=data, saturation=1.2)\n",
    "\n",
    "plt.title(\"Age Count by Gender.\")\n",
    "plt.show()"
   ]
  },
  {
   "cell_type": "markdown",
   "id": "99f3737c",
   "metadata": {
    "papermill": {
     "duration": 0.03089,
     "end_time": "2022-02-22T06:50:15.115640",
     "exception": false,
     "start_time": "2022-02-22T06:50:15.084750",
     "status": "completed"
    },
    "tags": []
   },
   "source": [
    "Breast Cancer is common in Females than Males."
   ]
  },
  {
   "cell_type": "code",
   "execution_count": 15,
   "id": "9b73cb56",
   "metadata": {
    "execution": {
     "iopub.execute_input": "2022-02-22T06:50:15.184979Z",
     "iopub.status.busy": "2022-02-22T06:50:15.184259Z",
     "iopub.status.idle": "2022-02-22T06:50:15.199179Z",
     "shell.execute_reply": "2022-02-22T06:50:15.200004Z"
    },
    "papermill": {
     "duration": 0.053431,
     "end_time": "2022-02-22T06:50:15.200251",
     "exception": false,
     "start_time": "2022-02-22T06:50:15.146820",
     "status": "completed"
    },
    "tags": []
   },
   "outputs": [
    {
     "data": {
      "text/html": [
       "<div>\n",
       "<style scoped>\n",
       "    .dataframe tbody tr th:only-of-type {\n",
       "        vertical-align: middle;\n",
       "    }\n",
       "\n",
       "    .dataframe tbody tr th {\n",
       "        vertical-align: top;\n",
       "    }\n",
       "\n",
       "    .dataframe thead th {\n",
       "        text-align: right;\n",
       "    }\n",
       "</style>\n",
       "<table border=\"1\" class=\"dataframe\">\n",
       "  <thead>\n",
       "    <tr style=\"text-align: right;\">\n",
       "      <th></th>\n",
       "      <th>Protein1</th>\n",
       "      <th>Protein2</th>\n",
       "      <th>Protein3</th>\n",
       "      <th>Protein4</th>\n",
       "    </tr>\n",
       "    <tr>\n",
       "      <th>Tumour_Stage</th>\n",
       "      <th></th>\n",
       "      <th></th>\n",
       "      <th></th>\n",
       "      <th></th>\n",
       "    </tr>\n",
       "  </thead>\n",
       "  <tbody>\n",
       "    <tr>\n",
       "      <th>I</th>\n",
       "      <td>-0.014430</td>\n",
       "      <td>1.001318</td>\n",
       "      <td>-0.165147</td>\n",
       "      <td>0.037828</td>\n",
       "    </tr>\n",
       "    <tr>\n",
       "      <th>II</th>\n",
       "      <td>-0.007734</td>\n",
       "      <td>0.964763</td>\n",
       "      <td>-0.065409</td>\n",
       "      <td>0.018023</td>\n",
       "    </tr>\n",
       "    <tr>\n",
       "      <th>III</th>\n",
       "      <td>-0.094220</td>\n",
       "      <td>0.862207</td>\n",
       "      <td>-0.088845</td>\n",
       "      <td>-0.031453</td>\n",
       "    </tr>\n",
       "  </tbody>\n",
       "</table>\n",
       "</div>"
      ],
      "text/plain": [
       "              Protein1  Protein2  Protein3  Protein4\n",
       "Tumour_Stage                                        \n",
       "I            -0.014430  1.001318 -0.165147  0.037828\n",
       "II           -0.007734  0.964763 -0.065409  0.018023\n",
       "III          -0.094220  0.862207 -0.088845 -0.031453"
      ]
     },
     "execution_count": 15,
     "metadata": {},
     "output_type": "execute_result"
    }
   ],
   "source": [
    "# Examine Proteins values.\n",
    "a = data.groupby(by=['Tumour_Stage']).mean()[['Protein1','Protein2','Protein3','Protein4']]\n",
    "a"
   ]
  },
  {
   "cell_type": "code",
   "execution_count": 16,
   "id": "043552b3",
   "metadata": {
    "execution": {
     "iopub.execute_input": "2022-02-22T06:50:15.268843Z",
     "iopub.status.busy": "2022-02-22T06:50:15.268145Z",
     "iopub.status.idle": "2022-02-22T06:50:15.505473Z",
     "shell.execute_reply": "2022-02-22T06:50:15.504737Z"
    },
    "papermill": {
     "duration": 0.272253,
     "end_time": "2022-02-22T06:50:15.505647",
     "exception": false,
     "start_time": "2022-02-22T06:50:15.233394",
     "status": "completed"
    },
    "tags": []
   },
   "outputs": [
    {
     "data": {
      "image/png": "[encoded data removed]",
      "text/plain": [
       "<Figure size 1008x576 with 1 Axes>"
      ]
     },
     "metadata": {
      "needs_background": "light"
     },
     "output_type": "display_data"
    }
   ],
   "source": [
    "# Visualization for the same.\n",
    "a.plot(kind='bar', figsize=(14, 8))\n",
    "\n",
    "plt.title(\"Average of different Proteins by Tumour stage\")\n",
    "plt.show()"
   ]
  },
  {
   "cell_type": "markdown",
   "id": "ad1f2266",
   "metadata": {
    "papermill": {
     "duration": 0.034004,
     "end_time": "2022-02-22T06:50:15.572807",
     "exception": false,
     "start_time": "2022-02-22T06:50:15.538803",
     "status": "completed"
    },
    "tags": []
   },
   "source": [
    "Proteins are found on tissues while testing. Protein 2 is common in all stages of Breast Cancer."
   ]
  },
  {
   "cell_type": "code",
   "execution_count": 17,
   "id": "3b372342",
   "metadata": {
    "execution": {
     "iopub.execute_input": "2022-02-22T06:50:15.648131Z",
     "iopub.status.busy": "2022-02-22T06:50:15.646860Z",
     "iopub.status.idle": "2022-02-22T06:50:15.660891Z",
     "shell.execute_reply": "2022-02-22T06:50:15.660286Z"
    },
    "papermill": {
     "duration": 0.055365,
     "end_time": "2022-02-22T06:50:15.661084",
     "exception": false,
     "start_time": "2022-02-22T06:50:15.605719",
     "status": "completed"
    },
    "tags": []
   },
   "outputs": [
    {
     "data": {
      "text/html": [
       "<div>\n",
       "<style scoped>\n",
       "    .dataframe tbody tr th:only-of-type {\n",
       "        vertical-align: middle;\n",
       "    }\n",
       "\n",
       "    .dataframe tbody tr th {\n",
       "        vertical-align: top;\n",
       "    }\n",
       "\n",
       "    .dataframe thead th {\n",
       "        text-align: right;\n",
       "    }\n",
       "</style>\n",
       "<table border=\"1\" class=\"dataframe\">\n",
       "  <thead>\n",
       "    <tr style=\"text-align: right;\">\n",
       "      <th></th>\n",
       "      <th></th>\n",
       "      <th>Patient_ID</th>\n",
       "    </tr>\n",
       "    <tr>\n",
       "      <th>Tumour_Stage</th>\n",
       "      <th>Histology</th>\n",
       "      <th></th>\n",
       "    </tr>\n",
       "  </thead>\n",
       "  <tbody>\n",
       "    <tr>\n",
       "      <th rowspan=\"3\" valign=\"top\">I</th>\n",
       "      <th>Infiltrating Ductal Carcinoma</th>\n",
       "      <td>50</td>\n",
       "    </tr>\n",
       "    <tr>\n",
       "      <th>Infiltrating Lobular Carcinoma</th>\n",
       "      <td>11</td>\n",
       "    </tr>\n",
       "    <tr>\n",
       "      <th>Mucinous Carcinoma</th>\n",
       "      <td>3</td>\n",
       "    </tr>\n",
       "    <tr>\n",
       "      <th rowspan=\"3\" valign=\"top\">II</th>\n",
       "      <th>Infiltrating Ductal Carcinoma</th>\n",
       "      <td>124</td>\n",
       "    </tr>\n",
       "    <tr>\n",
       "      <th>Infiltrating Lobular Carcinoma</th>\n",
       "      <td>56</td>\n",
       "    </tr>\n",
       "    <tr>\n",
       "      <th>Mucinous Carcinoma</th>\n",
       "      <td>9</td>\n",
       "    </tr>\n",
       "    <tr>\n",
       "      <th rowspan=\"2\" valign=\"top\">III</th>\n",
       "      <th>Infiltrating Ductal Carcinoma</th>\n",
       "      <td>59</td>\n",
       "    </tr>\n",
       "    <tr>\n",
       "      <th>Infiltrating Lobular Carcinoma</th>\n",
       "      <td>22</td>\n",
       "    </tr>\n",
       "  </tbody>\n",
       "</table>\n",
       "</div>"
      ],
      "text/plain": [
       "                                             Patient_ID\n",
       "Tumour_Stage Histology                                 \n",
       "I            Infiltrating Ductal Carcinoma           50\n",
       "             Infiltrating Lobular Carcinoma          11\n",
       "             Mucinous Carcinoma                       3\n",
       "II           Infiltrating Ductal Carcinoma          124\n",
       "             Infiltrating Lobular Carcinoma          56\n",
       "             Mucinous Carcinoma                       9\n",
       "III          Infiltrating Ductal Carcinoma           59\n",
       "             Infiltrating Lobular Carcinoma          22"
      ]
     },
     "execution_count": 17,
     "metadata": {},
     "output_type": "execute_result"
    }
   ],
   "source": [
    "a = pd.DataFrame(data.groupby(['Tumour_Stage', 'Histology']).count()['Patient_ID'])\n",
    "a"
   ]
  },
  {
   "cell_type": "code",
   "execution_count": 18,
   "id": "6f7499eb",
   "metadata": {
    "execution": {
     "iopub.execute_input": "2022-02-22T06:50:15.732115Z",
     "iopub.status.busy": "2022-02-22T06:50:15.731360Z",
     "iopub.status.idle": "2022-02-22T06:50:15.947747Z",
     "shell.execute_reply": "2022-02-22T06:50:15.948309Z"
    },
    "papermill": {
     "duration": 0.25406,
     "end_time": "2022-02-22T06:50:15.948529",
     "exception": false,
     "start_time": "2022-02-22T06:50:15.694469",
     "status": "completed"
    },
    "tags": []
   },
   "outputs": [
    {
     "data": {
      "image/png": "[encoded data removed]",
      "text/plain": [
       "<Figure size 1008x576 with 1 Axes>"
      ]
     },
     "metadata": {
      "needs_background": "light"
     },
     "output_type": "display_data"
    }
   ],
   "source": [
    "# visualization\n",
    "a.unstack().plot(kind='bar', figsize=(14, 8), title=\"Most Common types of Breast Cancer\",)\n",
    "plt.show()"
   ]
  },
  {
   "cell_type": "markdown",
   "id": "d7d47674",
   "metadata": {
    "papermill": {
     "duration": 0.035538,
     "end_time": "2022-02-22T06:50:16.019278",
     "exception": false,
     "start_time": "2022-02-22T06:50:15.983740",
     "status": "completed"
    },
    "tags": []
   },
   "source": [
    "Most common type of Breast cancer in all stages is **Infiltrating Ductal Carcinoma**. There are no observation for Mucinous Carcinoma type of cancer in Third stage of cancer."
   ]
  },
  {
   "cell_type": "code",
   "execution_count": 19,
   "id": "d83e123f",
   "metadata": {
    "execution": {
     "iopub.execute_input": "2022-02-22T06:50:16.096554Z",
     "iopub.status.busy": "2022-02-22T06:50:16.095756Z",
     "iopub.status.idle": "2022-02-22T06:50:16.347203Z",
     "shell.execute_reply": "2022-02-22T06:50:16.347769Z"
    },
    "papermill": {
     "duration": 0.293836,
     "end_time": "2022-02-22T06:50:16.347983",
     "exception": false,
     "start_time": "2022-02-22T06:50:16.054147",
     "status": "completed"
    },
    "tags": []
   },
   "outputs": [
    {
     "data": {
      "image/png": "[encoded data removed]",
      "text/plain": [
       "<Figure size 1008x576 with 1 Axes>"
      ]
     },
     "metadata": {
      "needs_background": "light"
     },
     "output_type": "display_data"
    }
   ],
   "source": [
    "# Observation for Surgery types\n",
    "a = pd.DataFrame(data.groupby(['Surgery_type', 'Histology']).count()['Patient_ID'])\n",
    "# print(a)\n",
    "\n",
    "# plot\n",
    "\n",
    "a.unstack().plot(kind='bar', figsize=(14, 8), title='Most common Surgery by Histology(Cancer Type)')\n",
    "plt.show()"
   ]
  },
  {
   "cell_type": "markdown",
   "id": "00c4f52a",
   "metadata": {
    "papermill": {
     "duration": 0.035572,
     "end_time": "2022-02-22T06:50:16.419522",
     "exception": false,
     "start_time": "2022-02-22T06:50:16.383950",
     "status": "completed"
    },
    "tags": []
   },
   "source": [
    "Type of Surgery for **Other** is not specified. But it occurs most of the times as compare to others. After **other** common type of surgery is **Modified Radical Masterctomy** for all type of tumours."
   ]
  },
  {
   "cell_type": "code",
   "execution_count": 20,
   "id": "316432c9",
   "metadata": {
    "execution": {
     "iopub.execute_input": "2022-02-22T06:50:16.494969Z",
     "iopub.status.busy": "2022-02-22T06:50:16.494270Z",
     "iopub.status.idle": "2022-02-22T06:50:16.509879Z",
     "shell.execute_reply": "2022-02-22T06:50:16.510527Z"
    },
    "papermill": {
     "duration": 0.055216,
     "end_time": "2022-02-22T06:50:16.510727",
     "exception": false,
     "start_time": "2022-02-22T06:50:16.455511",
     "status": "completed"
    },
    "tags": []
   },
   "outputs": [
    {
     "data": {
      "text/html": [
       "<div>\n",
       "<style scoped>\n",
       "    .dataframe tbody tr th:only-of-type {\n",
       "        vertical-align: middle;\n",
       "    }\n",
       "\n",
       "    .dataframe tbody tr th {\n",
       "        vertical-align: top;\n",
       "    }\n",
       "\n",
       "    .dataframe thead th {\n",
       "        text-align: right;\n",
       "    }\n",
       "</style>\n",
       "<table border=\"1\" class=\"dataframe\">\n",
       "  <thead>\n",
       "    <tr style=\"text-align: right;\">\n",
       "      <th></th>\n",
       "      <th></th>\n",
       "      <th>Patient_ID</th>\n",
       "    </tr>\n",
       "    <tr>\n",
       "      <th>Surgery_type</th>\n",
       "      <th>Patient_Status</th>\n",
       "      <th></th>\n",
       "    </tr>\n",
       "  </thead>\n",
       "  <tbody>\n",
       "    <tr>\n",
       "      <th rowspan=\"2\" valign=\"top\">Lumpectomy</th>\n",
       "      <th>Alive</th>\n",
       "      <td>57</td>\n",
       "    </tr>\n",
       "    <tr>\n",
       "      <th>Dead</th>\n",
       "      <td>9</td>\n",
       "    </tr>\n",
       "    <tr>\n",
       "      <th rowspan=\"2\" valign=\"top\">Modified Radical Mastectomy</th>\n",
       "      <th>Alive</th>\n",
       "      <td>72</td>\n",
       "    </tr>\n",
       "    <tr>\n",
       "      <th>Dead</th>\n",
       "      <td>20</td>\n",
       "    </tr>\n",
       "    <tr>\n",
       "      <th rowspan=\"2\" valign=\"top\">Other</th>\n",
       "      <th>Alive</th>\n",
       "      <td>73</td>\n",
       "    </tr>\n",
       "    <tr>\n",
       "      <th>Dead</th>\n",
       "      <td>25</td>\n",
       "    </tr>\n",
       "    <tr>\n",
       "      <th rowspan=\"2\" valign=\"top\">Simple Mastectomy</th>\n",
       "      <th>Alive</th>\n",
       "      <td>53</td>\n",
       "    </tr>\n",
       "    <tr>\n",
       "      <th>Dead</th>\n",
       "      <td>12</td>\n",
       "    </tr>\n",
       "  </tbody>\n",
       "</table>\n",
       "</div>"
      ],
      "text/plain": [
       "                                            Patient_ID\n",
       "Surgery_type                Patient_Status            \n",
       "Lumpectomy                  Alive                   57\n",
       "                            Dead                     9\n",
       "Modified Radical Mastectomy Alive                   72\n",
       "                            Dead                    20\n",
       "Other                       Alive                   73\n",
       "                            Dead                    25\n",
       "Simple Mastectomy           Alive                   53\n",
       "                            Dead                    12"
      ]
     },
     "execution_count": 20,
     "metadata": {},
     "output_type": "execute_result"
    }
   ],
   "source": [
    "# Patient_Status obeservations.\n",
    "a = pd.DataFrame(data.groupby(['Surgery_type','Patient_Status']).count()['Patient_ID'])\n",
    "a"
   ]
  },
  {
   "cell_type": "code",
   "execution_count": 21,
   "id": "9b8cce8d",
   "metadata": {
    "execution": {
     "iopub.execute_input": "2022-02-22T06:50:16.590281Z",
     "iopub.status.busy": "2022-02-22T06:50:16.589502Z",
     "iopub.status.idle": "2022-02-22T06:50:16.821028Z",
     "shell.execute_reply": "2022-02-22T06:50:16.820464Z"
    },
    "papermill": {
     "duration": 0.273955,
     "end_time": "2022-02-22T06:50:16.821187",
     "exception": false,
     "start_time": "2022-02-22T06:50:16.547232",
     "status": "completed"
    },
    "tags": []
   },
   "outputs": [
    {
     "data": {
      "image/png": "[encoded data removed]",
      "text/plain": [
       "<Figure size 1008x576 with 1 Axes>"
      ]
     },
     "metadata": {
      "needs_background": "light"
     },
     "output_type": "display_data"
    }
   ],
   "source": [
    "a.unstack().plot(kind='bar',figsize=(14, 8))\n",
    "\n",
    "plt.title(\"Obeservation of Patient Status\")\n",
    "plt.show()"
   ]
  },
  {
   "cell_type": "code",
   "execution_count": 22,
   "id": "b35bf78f",
   "metadata": {
    "execution": {
     "iopub.execute_input": "2022-02-22T06:50:17.113354Z",
     "iopub.status.busy": "2022-02-22T06:50:17.105793Z",
     "iopub.status.idle": "2022-02-22T06:50:17.347897Z",
     "shell.execute_reply": "2022-02-22T06:50:17.348471Z"
    },
    "papermill": {
     "duration": 0.489396,
     "end_time": "2022-02-22T06:50:17.348670",
     "exception": false,
     "start_time": "2022-02-22T06:50:16.859274",
     "status": "completed"
    },
    "tags": []
   },
   "outputs": [
    {
     "data": {
      "image/png": "[encoded data removed]",
      "text/plain": [
       "<Figure size 1008x576 with 1 Axes>"
      ]
     },
     "metadata": {
      "needs_background": "light"
     },
     "output_type": "display_data"
    }
   ],
   "source": [
    "# Patient Status visualization by age.\n",
    "plt.figure(figsize=(14, 8))\n",
    "\n",
    "sns.scatterplot(x='Age',y=data.index, hue='Patient_Status',data=data)\n",
    "\n",
    "plt.show()"
   ]
  },
  {
   "cell_type": "code",
   "execution_count": 23,
   "id": "512f7765",
   "metadata": {
    "execution": {
     "iopub.execute_input": "2022-02-22T06:50:17.438537Z",
     "iopub.status.busy": "2022-02-22T06:50:17.437611Z",
     "iopub.status.idle": "2022-02-22T06:50:17.456749Z",
     "shell.execute_reply": "2022-02-22T06:50:17.456207Z"
    },
    "papermill": {
     "duration": 0.06777,
     "end_time": "2022-02-22T06:50:17.456921",
     "exception": false,
     "start_time": "2022-02-22T06:50:17.389151",
     "status": "completed"
    },
    "tags": []
   },
   "outputs": [
    {
     "data": {
      "text/html": [
       "<div>\n",
       "<style scoped>\n",
       "    .dataframe tbody tr th:only-of-type {\n",
       "        vertical-align: middle;\n",
       "    }\n",
       "\n",
       "    .dataframe tbody tr th {\n",
       "        vertical-align: top;\n",
       "    }\n",
       "\n",
       "    .dataframe thead th {\n",
       "        text-align: right;\n",
       "    }\n",
       "</style>\n",
       "<table border=\"1\" class=\"dataframe\">\n",
       "  <thead>\n",
       "    <tr style=\"text-align: right;\">\n",
       "      <th></th>\n",
       "      <th></th>\n",
       "      <th>Patient_ID</th>\n",
       "    </tr>\n",
       "    <tr>\n",
       "      <th>Surgery_type</th>\n",
       "      <th>Patient_Status</th>\n",
       "      <th></th>\n",
       "    </tr>\n",
       "  </thead>\n",
       "  <tbody>\n",
       "    <tr>\n",
       "      <th rowspan=\"2\" valign=\"top\">Lumpectomy</th>\n",
       "      <th>Alive</th>\n",
       "      <td>86.36</td>\n",
       "    </tr>\n",
       "    <tr>\n",
       "      <th>Dead</th>\n",
       "      <td>13.64</td>\n",
       "    </tr>\n",
       "    <tr>\n",
       "      <th rowspan=\"2\" valign=\"top\">Modified Radical Mastectomy</th>\n",
       "      <th>Alive</th>\n",
       "      <td>75.00</td>\n",
       "    </tr>\n",
       "    <tr>\n",
       "      <th>Dead</th>\n",
       "      <td>20.83</td>\n",
       "    </tr>\n",
       "    <tr>\n",
       "      <th rowspan=\"2\" valign=\"top\">Other</th>\n",
       "      <th>Alive</th>\n",
       "      <td>69.52</td>\n",
       "    </tr>\n",
       "    <tr>\n",
       "      <th>Dead</th>\n",
       "      <td>23.81</td>\n",
       "    </tr>\n",
       "    <tr>\n",
       "      <th rowspan=\"2\" valign=\"top\">Simple Mastectomy</th>\n",
       "      <th>Alive</th>\n",
       "      <td>79.10</td>\n",
       "    </tr>\n",
       "    <tr>\n",
       "      <th>Dead</th>\n",
       "      <td>17.91</td>\n",
       "    </tr>\n",
       "  </tbody>\n",
       "</table>\n",
       "</div>"
      ],
      "text/plain": [
       "                                            Patient_ID\n",
       "Surgery_type                Patient_Status            \n",
       "Lumpectomy                  Alive                86.36\n",
       "                            Dead                 13.64\n",
       "Modified Radical Mastectomy Alive                75.00\n",
       "                            Dead                 20.83\n",
       "Other                       Alive                69.52\n",
       "                            Dead                 23.81\n",
       "Simple Mastectomy           Alive                79.10\n",
       "                            Dead                 17.91"
      ]
     },
     "execution_count": 23,
     "metadata": {},
     "output_type": "execute_result"
    }
   ],
   "source": [
    "a = pd.DataFrame((data.groupby(by=['Surgery_type', 'Patient_Status']).count()['Patient_ID']/ data.groupby(by=['Surgery_type']).count()['Patient_ID']) * 100)\n",
    "a['Patient_ID'] = a.Patient_ID.round(2)\n",
    "a"
   ]
  },
  {
   "cell_type": "code",
   "execution_count": 24,
   "id": "0494fbe7",
   "metadata": {
    "execution": {
     "iopub.execute_input": "2022-02-22T06:50:17.583501Z",
     "iopub.status.busy": "2022-02-22T06:50:17.564308Z",
     "iopub.status.idle": "2022-02-22T06:50:18.255546Z",
     "shell.execute_reply": "2022-02-22T06:50:18.254807Z"
    },
    "papermill": {
     "duration": 0.757996,
     "end_time": "2022-02-22T06:50:18.255704",
     "exception": false,
     "start_time": "2022-02-22T06:50:17.497708",
     "status": "completed"
    },
    "tags": []
   },
   "outputs": [
    {
     "data": {
      "image/png": "[encoded data removed]",
      "text/plain": [
       "<Figure size 1080x720 with 4 Axes>"
      ]
     },
     "metadata": {},
     "output_type": "display_data"
    }
   ],
   "source": [
    "fig, axs = plt.subplots(2, 2, figsize=(15, 10))\n",
    "\n",
    "for ax, code in zip(axs.flat, a.index.levels[0]):\n",
    "    a.xs(code).plot(kind='pie', subplots=True, ax=ax, xlabel=code, sharex=True)\n",
    "    \n",
    "\n",
    "plt.show()"
   ]
  },
  {
   "cell_type": "code",
   "execution_count": 25,
   "id": "ad31b4a6",
   "metadata": {
    "execution": {
     "iopub.execute_input": "2022-02-22T06:50:18.364470Z",
     "iopub.status.busy": "2022-02-22T06:50:18.354141Z",
     "iopub.status.idle": "2022-02-22T06:50:18.369353Z",
     "shell.execute_reply": "2022-02-22T06:50:18.368754Z"
    },
    "papermill": {
     "duration": 0.071525,
     "end_time": "2022-02-22T06:50:18.369522",
     "exception": false,
     "start_time": "2022-02-22T06:50:18.297997",
     "status": "completed"
    },
    "tags": []
   },
   "outputs": [
    {
     "data": {
      "text/html": [
       "<div>\n",
       "<style scoped>\n",
       "    .dataframe tbody tr th:only-of-type {\n",
       "        vertical-align: middle;\n",
       "    }\n",
       "\n",
       "    .dataframe tbody tr th {\n",
       "        vertical-align: top;\n",
       "    }\n",
       "\n",
       "    .dataframe thead th {\n",
       "        text-align: right;\n",
       "    }\n",
       "</style>\n",
       "<table border=\"1\" class=\"dataframe\">\n",
       "  <thead>\n",
       "    <tr style=\"text-align: right;\">\n",
       "      <th></th>\n",
       "      <th>Patient_ID</th>\n",
       "      <th>Age</th>\n",
       "      <th>Gender</th>\n",
       "      <th>Protein1</th>\n",
       "      <th>Protein2</th>\n",
       "      <th>Protein3</th>\n",
       "      <th>Protein4</th>\n",
       "      <th>Tumour_Stage</th>\n",
       "      <th>Histology</th>\n",
       "      <th>ER status</th>\n",
       "      <th>PR status</th>\n",
       "      <th>HER2 status</th>\n",
       "      <th>Surgery_type</th>\n",
       "      <th>Date_of_Surgery</th>\n",
       "      <th>Date_of_Last_Visit</th>\n",
       "      <th>Patient_Status</th>\n",
       "      <th>AgeGrp</th>\n",
       "    </tr>\n",
       "  </thead>\n",
       "  <tbody>\n",
       "    <tr>\n",
       "      <th>0</th>\n",
       "      <td>TCGA-D8-A1XD</td>\n",
       "      <td>36</td>\n",
       "      <td>FEMALE</td>\n",
       "      <td>0.080353</td>\n",
       "      <td>0.42638</td>\n",
       "      <td>0.54715</td>\n",
       "      <td>0.273680</td>\n",
       "      <td>III</td>\n",
       "      <td>Infiltrating Ductal Carcinoma</td>\n",
       "      <td>Positive</td>\n",
       "      <td>Positive</td>\n",
       "      <td>Negative</td>\n",
       "      <td>Modified Radical Mastectomy</td>\n",
       "      <td>2017-01-15</td>\n",
       "      <td>2017-06-19</td>\n",
       "      <td>Alive</td>\n",
       "      <td>30s</td>\n",
       "    </tr>\n",
       "    <tr>\n",
       "      <th>1</th>\n",
       "      <td>TCGA-EW-A1OX</td>\n",
       "      <td>43</td>\n",
       "      <td>FEMALE</td>\n",
       "      <td>-0.420320</td>\n",
       "      <td>0.57807</td>\n",
       "      <td>0.61447</td>\n",
       "      <td>-0.031505</td>\n",
       "      <td>II</td>\n",
       "      <td>Mucinous Carcinoma</td>\n",
       "      <td>Positive</td>\n",
       "      <td>Positive</td>\n",
       "      <td>Negative</td>\n",
       "      <td>Lumpectomy</td>\n",
       "      <td>2017-04-26</td>\n",
       "      <td>2018-11-09</td>\n",
       "      <td>Dead</td>\n",
       "      <td>40s</td>\n",
       "    </tr>\n",
       "    <tr>\n",
       "      <th>2</th>\n",
       "      <td>TCGA-A8-A079</td>\n",
       "      <td>69</td>\n",
       "      <td>FEMALE</td>\n",
       "      <td>0.213980</td>\n",
       "      <td>1.31140</td>\n",
       "      <td>-0.32747</td>\n",
       "      <td>-0.234260</td>\n",
       "      <td>III</td>\n",
       "      <td>Infiltrating Ductal Carcinoma</td>\n",
       "      <td>Positive</td>\n",
       "      <td>Positive</td>\n",
       "      <td>Negative</td>\n",
       "      <td>Other</td>\n",
       "      <td>2017-09-08</td>\n",
       "      <td>2018-06-09</td>\n",
       "      <td>Alive</td>\n",
       "      <td>60s</td>\n",
       "    </tr>\n",
       "    <tr>\n",
       "      <th>3</th>\n",
       "      <td>TCGA-D8-A1XR</td>\n",
       "      <td>56</td>\n",
       "      <td>FEMALE</td>\n",
       "      <td>0.345090</td>\n",
       "      <td>-0.21147</td>\n",
       "      <td>-0.19304</td>\n",
       "      <td>0.124270</td>\n",
       "      <td>II</td>\n",
       "      <td>Infiltrating Ductal Carcinoma</td>\n",
       "      <td>Positive</td>\n",
       "      <td>Positive</td>\n",
       "      <td>Negative</td>\n",
       "      <td>Modified Radical Mastectomy</td>\n",
       "      <td>2017-01-25</td>\n",
       "      <td>2017-07-12</td>\n",
       "      <td>Alive</td>\n",
       "      <td>50s</td>\n",
       "    </tr>\n",
       "    <tr>\n",
       "      <th>4</th>\n",
       "      <td>TCGA-BH-A0BF</td>\n",
       "      <td>56</td>\n",
       "      <td>FEMALE</td>\n",
       "      <td>0.221550</td>\n",
       "      <td>1.90680</td>\n",
       "      <td>0.52045</td>\n",
       "      <td>-0.311990</td>\n",
       "      <td>II</td>\n",
       "      <td>Infiltrating Ductal Carcinoma</td>\n",
       "      <td>Positive</td>\n",
       "      <td>Positive</td>\n",
       "      <td>Negative</td>\n",
       "      <td>Other</td>\n",
       "      <td>2017-05-06</td>\n",
       "      <td>2019-06-27</td>\n",
       "      <td>Dead</td>\n",
       "      <td>50s</td>\n",
       "    </tr>\n",
       "  </tbody>\n",
       "</table>\n",
       "</div>"
      ],
      "text/plain": [
       "     Patient_ID  Age  Gender  Protein1  Protein2  Protein3  Protein4  \\\n",
       "0  TCGA-D8-A1XD   36  FEMALE  0.080353   0.42638   0.54715  0.273680   \n",
       "1  TCGA-EW-A1OX   43  FEMALE -0.420320   0.57807   0.61447 -0.031505   \n",
       "2  TCGA-A8-A079   69  FEMALE  0.213980   1.31140  -0.32747 -0.234260   \n",
       "3  TCGA-D8-A1XR   56  FEMALE  0.345090  -0.21147  -0.19304  0.124270   \n",
       "4  TCGA-BH-A0BF   56  FEMALE  0.221550   1.90680   0.52045 -0.311990   \n",
       "\n",
       "  Tumour_Stage                      Histology ER status PR status HER2 status  \\\n",
       "0          III  Infiltrating Ductal Carcinoma  Positive  Positive    Negative   \n",
       "1           II             Mucinous Carcinoma  Positive  Positive    Negative   \n",
       "2          III  Infiltrating Ductal Carcinoma  Positive  Positive    Negative   \n",
       "3           II  Infiltrating Ductal Carcinoma  Positive  Positive    Negative   \n",
       "4           II  Infiltrating Ductal Carcinoma  Positive  Positive    Negative   \n",
       "\n",
       "                  Surgery_type Date_of_Surgery Date_of_Last_Visit  \\\n",
       "0  Modified Radical Mastectomy      2017-01-15         2017-06-19   \n",
       "1                   Lumpectomy      2017-04-26         2018-11-09   \n",
       "2                        Other      2017-09-08         2018-06-09   \n",
       "3  Modified Radical Mastectomy      2017-01-25         2017-07-12   \n",
       "4                        Other      2017-05-06         2019-06-27   \n",
       "\n",
       "  Patient_Status AgeGrp  \n",
       "0          Alive    30s  \n",
       "1           Dead    40s  \n",
       "2          Alive    60s  \n",
       "3          Alive    50s  \n",
       "4           Dead    50s  "
      ]
     },
     "execution_count": 25,
     "metadata": {},
     "output_type": "execute_result"
    }
   ],
   "source": [
    "data.head()"
   ]
  },
  {
   "cell_type": "code",
   "execution_count": 26,
   "id": "4605be92",
   "metadata": {
    "execution": {
     "iopub.execute_input": "2022-02-22T06:50:18.471653Z",
     "iopub.status.busy": "2022-02-22T06:50:18.470885Z",
     "iopub.status.idle": "2022-02-22T06:50:18.475093Z",
     "shell.execute_reply": "2022-02-22T06:50:18.474521Z"
    },
    "papermill": {
     "duration": 0.061749,
     "end_time": "2022-02-22T06:50:18.475252",
     "exception": false,
     "start_time": "2022-02-22T06:50:18.413503",
     "status": "completed"
    },
    "tags": []
   },
   "outputs": [
    {
     "data": {
      "text/html": [
       "<div>\n",
       "<style scoped>\n",
       "    .dataframe tbody tr th:only-of-type {\n",
       "        vertical-align: middle;\n",
       "    }\n",
       "\n",
       "    .dataframe tbody tr th {\n",
       "        vertical-align: top;\n",
       "    }\n",
       "\n",
       "    .dataframe thead th {\n",
       "        text-align: right;\n",
       "    }\n",
       "</style>\n",
       "<table border=\"1\" class=\"dataframe\">\n",
       "  <thead>\n",
       "    <tr style=\"text-align: right;\">\n",
       "      <th></th>\n",
       "      <th>Age</th>\n",
       "      <th>Protein1</th>\n",
       "      <th>Protein2</th>\n",
       "      <th>Protein3</th>\n",
       "      <th>Protein4</th>\n",
       "    </tr>\n",
       "  </thead>\n",
       "  <tbody>\n",
       "    <tr>\n",
       "      <th>Age</th>\n",
       "      <td>1.000000</td>\n",
       "      <td>-0.050638</td>\n",
       "      <td>-0.021542</td>\n",
       "      <td>-0.039686</td>\n",
       "      <td>0.094214</td>\n",
       "    </tr>\n",
       "    <tr>\n",
       "      <th>Protein1</th>\n",
       "      <td>-0.050638</td>\n",
       "      <td>1.000000</td>\n",
       "      <td>0.238141</td>\n",
       "      <td>-0.129482</td>\n",
       "      <td>0.280343</td>\n",
       "    </tr>\n",
       "    <tr>\n",
       "      <th>Protein2</th>\n",
       "      <td>-0.021542</td>\n",
       "      <td>0.238141</td>\n",
       "      <td>1.000000</td>\n",
       "      <td>-0.415825</td>\n",
       "      <td>0.088239</td>\n",
       "    </tr>\n",
       "    <tr>\n",
       "      <th>Protein3</th>\n",
       "      <td>-0.039686</td>\n",
       "      <td>-0.129482</td>\n",
       "      <td>-0.415825</td>\n",
       "      <td>1.000000</td>\n",
       "      <td>0.065316</td>\n",
       "    </tr>\n",
       "    <tr>\n",
       "      <th>Protein4</th>\n",
       "      <td>0.094214</td>\n",
       "      <td>0.280343</td>\n",
       "      <td>0.088239</td>\n",
       "      <td>0.065316</td>\n",
       "      <td>1.000000</td>\n",
       "    </tr>\n",
       "  </tbody>\n",
       "</table>\n",
       "</div>"
      ],
      "text/plain": [
       "               Age  Protein1  Protein2  Protein3  Protein4\n",
       "Age       1.000000 -0.050638 -0.021542 -0.039686  0.094214\n",
       "Protein1 -0.050638  1.000000  0.238141 -0.129482  0.280343\n",
       "Protein2 -0.021542  0.238141  1.000000 -0.415825  0.088239\n",
       "Protein3 -0.039686 -0.129482 -0.415825  1.000000  0.065316\n",
       "Protein4  0.094214  0.280343  0.088239  0.065316  1.000000"
      ]
     },
     "execution_count": 26,
     "metadata": {},
     "output_type": "execute_result"
    }
   ],
   "source": [
    "data.corr()"
   ]
  },
  {
   "cell_type": "code",
   "execution_count": 27,
   "id": "cdb73cc8",
   "metadata": {
    "execution": {
     "iopub.execute_input": "2022-02-22T06:50:18.588134Z",
     "iopub.status.busy": "2022-02-22T06:50:18.570092Z",
     "iopub.status.idle": "2022-02-22T06:50:18.896616Z",
     "shell.execute_reply": "2022-02-22T06:50:18.897140Z"
    },
    "papermill": {
     "duration": 0.378151,
     "end_time": "2022-02-22T06:50:18.897345",
     "exception": false,
     "start_time": "2022-02-22T06:50:18.519194",
     "status": "completed"
    },
    "tags": []
   },
   "outputs": [
    {
     "data": {
      "image/png": "[encoded data removed]",
      "text/plain": [
       "<Figure size 1008x576 with 2 Axes>"
      ]
     },
     "metadata": {
      "needs_background": "light"
     },
     "output_type": "display_data"
    }
   ],
   "source": [
    "matrix = np.tril(data.corr())\n",
    "plt.figure(figsize=(14, 8))\n",
    "sns.heatmap(data.corr(), annot=True, fmt=\"0.2g\", vmin = -1, vmax=1, center=0, square=True, mask=matrix,linewidth=0.3)\n",
    "\n",
    "plt.show()"
   ]
  },
  {
   "cell_type": "code",
   "execution_count": null,
   "id": "d35739d5",
   "metadata": {
    "papermill": {
     "duration": 0.045281,
     "end_time": "2022-02-22T06:50:18.987648",
     "exception": false,
     "start_time": "2022-02-22T06:50:18.942367",
     "status": "completed"
    },
    "tags": []
   },
   "outputs": [],
   "source": []
  },
  {
   "cell_type": "code",
   "execution_count": null,
   "id": "5bf1d51e",
   "metadata": {
    "papermill": {
     "duration": 0.044104,
     "end_time": "2022-02-22T06:50:19.077250",
     "exception": false,
     "start_time": "2022-02-22T06:50:19.033146",
     "status": "completed"
    },
    "tags": []
   },
   "outputs": [],
   "source": []
  },
  {
   "cell_type": "code",
   "execution_count": null,
   "id": "8a3aa840",
   "metadata": {
    "papermill": {
     "duration": 0.045228,
     "end_time": "2022-02-22T06:50:19.168897",
     "exception": false,
     "start_time": "2022-02-22T06:50:19.123669",
     "status": "completed"
    },
    "tags": []
   },
   "outputs": [],
   "source": []
  },
  {
   "cell_type": "code",
   "execution_count": null,
   "id": "ec86c4af",
   "metadata": {
    "papermill": {
     "duration": 0.045316,
     "end_time": "2022-02-22T06:50:19.259636",
     "exception": false,
     "start_time": "2022-02-22T06:50:19.214320",
     "status": "completed"
    },
    "tags": []
   },
   "outputs": [],
   "source": []
  },
  {
   "cell_type": "code",
   "execution_count": null,
   "id": "c0e4b8fd",
   "metadata": {
    "papermill": {
     "duration": 0.044747,
     "end_time": "2022-02-22T06:50:19.349850",
     "exception": false,
     "start_time": "2022-02-22T06:50:19.305103",
     "status": "completed"
    },
    "tags": []
   },
   "outputs": [],
   "source": []
  },
  {
   "cell_type": "code",
   "execution_count": null,
   "id": "6ac02a25",
   "metadata": {
    "papermill": {
     "duration": 0.044735,
     "end_time": "2022-02-22T06:50:19.439940",
     "exception": false,
     "start_time": "2022-02-22T06:50:19.395205",
     "status": "completed"
    },
    "tags": []
   },
   "outputs": [],
   "source": []
  }
 ],
 "metadata": {
  "kernelspec": {
   "display_name": "Python 3",
   "language": "python",
   "name": "python3"
  },
  "language_info": {
   "codemirror_mode": {
    "name": "ipython",
    "version": 3
   },
   "file_extension": ".py",
   "mimetype": "text/x-python",
   "name": "python",
   "nbconvert_exporter": "python",
   "pygments_lexer": "ipython3",
   "version": "3.7.10"
  },
  "papermill": {
   "default_parameters": {},
   "duration": 16.817354,
   "end_time": "2022-02-22T06:50:20.497695",
   "environment_variables": {},
   "exception": null,
   "input_path": "__notebook__.ipynb",
   "output_path": "__notebook__.ipynb",
   "parameters": {},
   "start_time": "2022-02-22T06:50:03.680341",
   "version": "2.3.3"
  }
 },
 "nbformat": 4,
 "nbformat_minor": 5
}
